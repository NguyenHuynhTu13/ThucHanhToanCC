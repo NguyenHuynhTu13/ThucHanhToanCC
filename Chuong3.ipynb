{
  "nbformat": 4,
  "nbformat_minor": 0,
  "metadata": {
    "colab": {
      "name": "Bai1.ipynb",
      "provenance": [],
      "collapsed_sections": [],
      "authorship_tag": "ABX9TyO0KMkx/O1h4h0Oh+H54NHT",
      "include_colab_link": true
    },
    "kernelspec": {
      "name": "python3",
      "display_name": "Python 3"
    },
    "language_info": {
      "name": "python"
    }
  },
  "cells": [
    {
      "cell_type": "markdown",
      "metadata": {
        "id": "view-in-github",
        "colab_type": "text"
      },
      "source": [
        "<a href=\"https://colab.research.google.com/github/NguyenHuynhTu13/ThucHanhToanCC/blob/main/Chuong3.ipynb\" target=\"_parent\"><img src=\"https://colab.research.google.com/assets/colab-badge.svg\" alt=\"Open In Colab\"/></a>"
      ]
    },
    {
      "cell_type": "code",
      "execution_count": null,
      "metadata": {
        "colab": {
          "base_uri": "https://localhost:8080/"
        },
        "id": "QDo1YpjU425p",
        "outputId": "18378bbf-9e49-48f7-9090-e2bd509fcf3d"
      },
      "outputs": [
        {
          "output_type": "stream",
          "name": "stderr",
          "text": [
            "IOPub data rate exceeded.\n",
            "The notebook server will temporarily stop sending output\n",
            "to the client in order to avoid crashing it.\n",
            "To change this limit, set the config variable\n",
            "`--NotebookApp.iopub_data_rate_limit`.\n",
            "\n",
            "Current values:\n",
            "NotebookApp.iopub_data_rate_limit=1000000.0 (bytes/sec)\n",
            "NotebookApp.rate_limit_window=3.0 (secs)\n",
            "\n"
          ]
        }
      ],
      "source": [
        "n=10000000000000000000000000\n",
        "X=[(2*k)/n for k in range(0,n+1)]\n",
        "print(X)"
      ]
    },
    {
      "cell_type": "code",
      "source": [
        "from sympy import Derivative,Symbol\n",
        "x=Symbol('x')\n",
        "f=sympy.sin(2*x)\n",
        "Derivative(f,x).doit()"
      ],
      "metadata": {
        "colab": {
          "base_uri": "https://localhost:8080/",
          "height": 39
        },
        "id": "QdgWGSgiKLwW",
        "outputId": "201e48df-f0ac-4aec-933a-b71761b76868"
      },
      "execution_count": 5,
      "outputs": [
        {
          "output_type": "execute_result",
          "data": {
            "text/latex": "$\\displaystyle 2 \\cos{\\left(2 x \\right)}$",
            "text/plain": [
              "2*cos(2*x)"
            ]
          },
          "metadata": {},
          "execution_count": 5
        }
      ]
    },
    {
      "cell_type": "markdown",
      "source": [
        "*CHƯƠNG 3"
      ],
      "metadata": {
        "id": "ixt61JVkS9J4"
      }
    },
    {
      "cell_type": "markdown",
      "source": [
        "Thực hành 1\n"
      ],
      "metadata": {
        "id": "SFRT0GxTS604"
      }
    },
    {
      "cell_type": "code",
      "source": [
        "def luythua(x, n): \n",
        "  ketqua= 1 \n",
        "  for i in range(n): \n",
        "    ketqua = ketqua *x \n",
        "  return ketqua \n",
        "  "
      ],
      "metadata": {
        "id": "61CkRNFOOsZK"
      },
      "execution_count": 10,
      "outputs": []
    },
    {
      "cell_type": "code",
      "source": [
        "luythua(2,7)"
      ],
      "metadata": {
        "colab": {
          "base_uri": "https://localhost:8080/"
        },
        "id": "KRvRcBqVQBTf",
        "outputId": "20333d9c-84f4-423d-b9de-d690c356dbae"
      },
      "execution_count": 13,
      "outputs": [
        {
          "output_type": "execute_result",
          "data": {
            "text/plain": [
              "128"
            ]
          },
          "metadata": {},
          "execution_count": 13
        }
      ]
    },
    {
      "cell_type": "markdown",
      "source": [
        "Thực hành 3\n",
        "\n"
      ],
      "metadata": {
        "id": "PM4xqfyUS3hA"
      }
    },
    {
      "cell_type": "code",
      "source": [
        "\n",
        "try:\n",
        "    x=int(input('Vui lòng nhập số: '))\n",
        "except:\n",
        "    print('Vui lòng nhận số không nhập chữ!!! ')\n",
        " "
      ],
      "metadata": {
        "colab": {
          "base_uri": "https://localhost:8080/"
        },
        "id": "_RneH8GBQbsw",
        "outputId": "dae3b9c6-e3ab-4828-c908-3a584a1a0d24"
      },
      "execution_count": 32,
      "outputs": [
        {
          "name": "stdout",
          "output_type": "stream",
          "text": [
            "Vui lòng nhập số: 57\n"
          ]
        }
      ]
    },
    {
      "cell_type": "markdown",
      "source": [
        "Thực hành 6"
      ],
      "metadata": {
        "id": "hRZ2kUFxhnji"
      }
    },
    {
      "cell_type": "code",
      "source": [
        "\n",
        "try:         \n",
        "    u = float(input('Nhap van toc ban dau (m/s): '))         \n",
        "    theta = float(input('Nhap goc bay (degrees): ')) \n",
        "except ValueError:        \n",
        "    print (' Nhap cac gia tri sai! ')     \n",
        "else:         \n",
        "    draw_trajectory(u, theta)        \n",
        "    plt.show()     \n",
        "finally:         \n",
        "  print ('Hoan thanh chuong trinh!') "
      ],
      "metadata": {
        "id": "03H0hdq9hrbY"
      },
      "execution_count": null,
      "outputs": []
    }
  ]
}