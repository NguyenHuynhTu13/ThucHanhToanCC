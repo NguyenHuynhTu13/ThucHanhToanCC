{
  "nbformat": 4,
  "nbformat_minor": 0,
  "metadata": {
    "colab": {
      "name": "Untitled0.ipynb",
      "provenance": [],
      "authorship_tag": "ABX9TyNpDSPifh0i/X2QVg0tBFAh",
      "include_colab_link": true
    },
    "kernelspec": {
      "name": "python3",
      "display_name": "Python 3"
    },
    "language_info": {
      "name": "python"
    }
  },
  "cells": [
    {
      "cell_type": "markdown",
      "metadata": {
        "id": "view-in-github",
        "colab_type": "text"
      },
      "source": [
        "<a href=\"https://colab.research.google.com/github/NguyenHuynhTu13/ThucHanhToanCC/blob/main/Thuchanh13.ipynb\" target=\"_parent\"><img src=\"https://colab.research.google.com/assets/colab-badge.svg\" alt=\"Open In Colab\"/></a>"
      ]
    },
    {
      "cell_type": "code",
      "source": [
        "from sympy import Symbol,Limit\n",
        "t=Symbol('t')\n",
        "St=5*t**2+2*t+8\n",
        "t1=Symbol('t1')\n",
        "delta_t=Symbol('delta_t')\n",
        "St1=St.subs({t:t1})\n",
        "St1_delta=St.subs({t:t1+delta_t})\n",
        "Limit((St1_delta-St1)/delta_t,delta_t,0).doit()"
      ],
      "metadata": {
        "id": "dQe_zTKZo8_S",
        "outputId": "3143a1d1-fbdc-4843-c3fd-862cc0426a72",
        "colab": {
          "base_uri": "https://localhost:8080/",
          "height": 39
        }
      },
      "execution_count": 26,
      "outputs": [
        {
          "output_type": "execute_result",
          "data": {
            "text/latex": "$\\displaystyle 10 t_{1} + 2$",
            "text/plain": [
              "10*t1 + 2"
            ]
          },
          "metadata": {},
          "execution_count": 26
        }
      ]
    }
  ]
}